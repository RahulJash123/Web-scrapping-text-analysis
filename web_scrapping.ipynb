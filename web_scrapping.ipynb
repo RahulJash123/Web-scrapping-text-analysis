{
 "cells": [
  {
   "cell_type": "code",
   "execution_count": 1,
   "id": "2d40d48c",
   "metadata": {},
   "outputs": [],
   "source": [
    "import pandas as pd\n",
    "import requests\n",
    "from bs4 import BeautifulSoup\n",
    "from nltk.tokenize import word_tokenize, sent_tokenize\n",
    "from nltk.corpus import stopwords, cmudict\n",
    "from nltk.sentiment import SentimentIntensityAnalyzer\n",
    "from textblob import TextBlob\n",
    "import nltk"
   ]
  },
  {
   "cell_type": "code",
   "execution_count": 2,
   "id": "d1af0700",
   "metadata": {},
   "outputs": [
    {
     "name": "stderr",
     "output_type": "stream",
     "text": [
      "[nltk_data] Downloading package punkt to\n",
      "[nltk_data]     C:\\Users\\rahul\\AppData\\Roaming\\nltk_data...\n",
      "[nltk_data]   Package punkt is already up-to-date!\n",
      "[nltk_data] Downloading package stopwords to\n",
      "[nltk_data]     C:\\Users\\rahul\\AppData\\Roaming\\nltk_data...\n",
      "[nltk_data]   Package stopwords is already up-to-date!\n",
      "[nltk_data] Downloading package vader_lexicon to\n",
      "[nltk_data]     C:\\Users\\rahul\\AppData\\Roaming\\nltk_data...\n",
      "[nltk_data]   Package vader_lexicon is already up-to-date!\n",
      "[nltk_data] Downloading package averaged_perceptron_tagger to\n",
      "[nltk_data]     C:\\Users\\rahul\\AppData\\Roaming\\nltk_data...\n",
      "[nltk_data]   Package averaged_perceptron_tagger is already up-to-\n",
      "[nltk_data]       date!\n",
      "[nltk_data] Downloading package cmudict to\n",
      "[nltk_data]     C:\\Users\\rahul\\AppData\\Roaming\\nltk_data...\n",
      "[nltk_data]   Package cmudict is already up-to-date!\n"
     ]
    },
    {
     "data": {
      "text/plain": [
       "True"
      ]
     },
     "execution_count": 2,
     "metadata": {},
     "output_type": "execute_result"
    }
   ],
   "source": [
    "nltk.download('punkt')\n",
    "nltk.download('stopwords')\n",
    "nltk.download('vader_lexicon')\n",
    "nltk.download('averaged_perceptron_tagger')\n",
    "nltk.download('cmudict')"
   ]
  },
  {
   "cell_type": "code",
   "execution_count": 3,
   "id": "af221428",
   "metadata": {},
   "outputs": [],
   "source": [
    "def extract_text_from_url(url):\n",
    "    response = requests.get(url)\n",
    "    soup = BeautifulSoup(response.text, 'html.parser')\n",
    "\n",
    "    paragraphs = soup.find_all('p')\n",
    "    text = ' '.join([p.get_text() for p in paragraphs])\n",
    "    return text"
   ]
  },
  {
   "cell_type": "code",
   "execution_count": 4,
   "id": "ed55fd8c",
   "metadata": {},
   "outputs": [],
   "source": [
    "def syllable_count_word(word, cmu_dict):\n",
    "    if word.lower() in cmu_dict:\n",
    "        return max([len(list(y for y in x if y[-1].isdigit())) for x in cmu_dict[word.lower()]])\n",
    "    # If word not found in CMU dictionary, estimate syllable count based on number of vowels\n",
    "    return max(1, sum(1 for c in word.lower() if c in 'aeiou'))"
   ]
  },
  {
   "cell_type": "code",
   "execution_count": 5,
   "id": "46514692",
   "metadata": {},
   "outputs": [],
   "source": [
    "def perform_text_analysis(text):\n",
    "    # Tokenization\n",
    "    tokens = word_tokenize(text)\n",
    "    # Removing stop words\n",
    "    stop_words = set(stopwords.words('english'))\n",
    "    filtered_tokens = [word for word in tokens if word.lower() not in stop_words and word.isalnum()]\n",
    "    # Word count\n",
    "    word_count = len(filtered_tokens)\n",
    "    # Average word length\n",
    "    avg_word_length = sum(len(word) for word in filtered_tokens) / len(filtered_tokens) if len(filtered_tokens) > 0 else 0\n",
    "    # Sentiment analysis\n",
    "    sia = SentimentIntensityAnalyzer()\n",
    "    sentiment = sia.polarity_scores(text)\n",
    "    positive_score = sentiment['pos']\n",
    "    negative_score = sentiment['neg']\n",
    "    polarity_score = sentiment['compound']\n",
    "    # Subjectivity analysis\n",
    "    subjectivity_score = TextBlob(text).sentiment.subjectivity\n",
    "    # Sentence analysis\n",
    "    sentences = sent_tokenize(text)\n",
    "    avg_sentence_length = sum(len(sent.split()) for sent in sentences) / len(sentences) if len(sentences) > 0 else 0\n",
    "    avg_words_per_sentence = sum(len(word_tokenize(sent)) for sent in sentences) / len(sentences) if len(sentences) > 0 else 0\n",
    "    # Complex word analysis\n",
    "    cmu_dict = cmudict.dict()\n",
    "    complex_word_count = 0\n",
    "    syllable_count = 0\n",
    "    for word in filtered_tokens:\n",
    "        syllable_count += syllable_count_word(word, cmu_dict)\n",
    "        if syllable_count_word(word, cmu_dict) >= 3:\n",
    "            complex_word_count += 1\n",
    "    percentage_complex_words = (complex_word_count / word_count) * 100 if word_count > 0 else 0\n",
    "    # FOG index\n",
    "    fog_index = 0.4 * (avg_sentence_length + percentage_complex_words)\n",
    "    # Personal pronouns count\n",
    "    personal_pronouns = ['I', 'my', 'we', 'us', 'ours']\n",
    "    personal_pronoun_count = sum(1 for word in filtered_tokens if word.lower() in personal_pronouns)\n",
    "    return positive_score, negative_score, polarity_score, subjectivity_score, avg_sentence_length, \\\n",
    "           percentage_complex_words, fog_index, avg_words_per_sentence, complex_word_count, word_count, \\\n",
    "           syllable_count / word_count, personal_pronoun_count, avg_word_length"
   ]
  },
  {
   "cell_type": "code",
   "execution_count": 6,
   "id": "228e0bb3",
   "metadata": {},
   "outputs": [],
   "source": [
    "url = 'https://insights.blackcoffer.com/rise-of-cybercrime-and-its-effect-by-the-year-2040/'"
   ]
  },
  {
   "cell_type": "code",
   "execution_count": 7,
   "id": "310a83d2",
   "metadata": {},
   "outputs": [],
   "source": [
    "txt = extract_text_from_url(url)"
   ]
  },
  {
   "cell_type": "code",
   "execution_count": 8,
   "id": "6b35cbd5",
   "metadata": {},
   "outputs": [
    {
     "data": {
      "text/plain": [
       "'Efficient AWS Infrastructure Setup and Management: Addressing Security, Scalability, and Compliance Streamlined Equity Waterfall Calculation and Deal Management System Automated Orthopedic Case Report Generation: Harnessing Web Scraping and AI Integration Streamlining Time Calculation in Warehouse Management: Leveraging ShipHero API and Google BigQuery Integration Methodology for ETL Discovery Tool using LLMA, OpenAI, Langchain Methodology for database discovery tool using openai, LLMA, Langchain Chatbot using VoiceFlow How To Secure (SSL) Nginx with Let’s Encrypt on Ubuntu (Cloud VM, GCP, AWS, Azure, Linode) and Add Domain Rising IT cities and its impact on the economy, environment, infrastructure, and city life by the year 2040. Rising IT Cities and Their Impact on the Economy, Environment, Infrastructure, and City Life in Future Internet Demand’s Evolution, Communication Impact, and 2035’s Alternative Pathways Rise of Cybercrime and its Effect in upcoming Future AI/ML and Predictive Modeling Solution for Contact Centre Problems How to Setup Custom Domain for Google App Engine Application? Code Review Checklist Understanding Cybercrime: An Overview In the year 2040, the rise of cybercrime has become a significant concern worldwide. As digital technologies have become an integral part of daily life, the increasing use of the global Internet has posed new security challenges, both for governments and individuals alike. According to recent studies on cybercrime, researchers have highlighted how the capabilities of digital technologies can facilitate various types of crimes, from identity theft and piracy to hacking and financial fraud. The impact of cybercrime in 2040 is expected to be far-reaching and pervasive, affecting not only individuals but also businesses and governments on a global scale. The Effect of Cybercrime on Businesses One of the most significant consequences of cybercrime is the detrimental effect it has on businesses. These crimes can result in significant financial losses, as evidenced by the estimated $600 billion loss experienced in 2018 due to global cybercrimes. This figure highlights the growing menace of cybercrimes, indicating that they are a significant threat to the business community. Organizations face reputational and financial damages as a result of cybercrimes. To address the growing menace of cybercrimes, organizations heavily rely on technology-based solutions to minimize incidents and mitigate their impact. However, the widespread use of the Internet and advancements in mobile technologies have exacerbated the problem. The frequency, sophistication, and impact of cyber threats have increased, posing a global concern for businesses of all sizes and industries. Policymakers and organizations alike have expressed concerns about the potential disruption cybercrime can cause to business and public administration activities. These concerns stem from the difficulty in precisely measuring the impact and increase of cybercrime. Nevertheless, the trends indicate that cybercrime is a pressing issue that requires immediate attention and strategic countermeasures. The destabilizing effects of cybercrimes on businesses cannot be overstated. Beyond the substantial financial losses, organizations also face reputational damage. Customers and stakeholders lose trust and confidence in the business’s ability to protect sensitive information, resulting in a decline in customer loyalty and potential revenue. Additionally, the constant threat of cybercrime creates a sense of vulnerability and uncertainty among businesses, hindering their ability to innovate and grow. Furthermore, cybercrimes have a global reach and can impact businesses in all corners of the world, including developing economies. Predicted Evolution of Cybercrime by 2040 By the year 2040, the evolution of cybercrime is expected to continue on an upward trajectory. Advancements in technology and the increasing interconnectedness of our digital world will provide cybercriminals with even more opportunities to exploit vulnerabilities and carry out their illicit activities. Furthermore, the growing reliance on technology in all aspects of society will make businesses and individuals more susceptible to cyber threats. As technology continues to advance, cybercriminals will likely leverage emerging techniques such as artificial intelligence and machine learning to enhance their attacks.Cybercrime has evolved significantly over the past few decades, and it is only going to become more sophisticated in the years to come. Here are some of the ways that cybercrime is expected to evolve by 2040: These are just a few of the ways that cybercrime is expected to evolve by 2040. As technology continues to advance, so too will the sophistication of cyber-attacks. It is important to be aware of these trends so that you can take steps to protect yourself and your organization from cybercrime. The advancement of technology has had a significant impact on cybercrime. As technology has become more sophisticated, so have the methods used by cybercriminals to commit crimes. Here are some of the ways in which technological advancements have affected cybercrime: The effects of cybercrime can be significant. These include: The advancement of technology is likely to continue to have a significant impact on cybercrime in the future. As technology becomes more sophisticated, so will the methods used by cybercriminals to commit crimes. This means that it is important for individuals, businesses, and governments to take steps to protect themselves from cybercrime. Cybercrime is a growing threat to the global economy. In 2022, it is estimated that cybercrime will cost the world $8 trillion, and that figure is expected to grow to $10.5 trillion by 2025. The implications of cybercrime on the global economy are wide-ranging. Here are some of the most significant: The implications of cybercrime on the global economy are significant and far-reaching. As the threat of cybercrime continues to grow, it is important for businesses and individuals to take steps to protect themselves. Cybercrime is a growing problem, and it’s important to take steps to protect yourself and your organization from attack. Here are some cybersecurity measures that can help counteract cybercrime: In addition to these general measures, there are also specific cybersecurity measures that you can take depending on your individual needs and circumstances. For example, if you work from home, you may need to take additional steps to secure your home network. By following these cybersecurity measures, you can help protect yourself and your organization from cybercrime. Here are some additional tips for counteracting cybercrime: Cybercrime is a growing threat, and it is important to develop new strategies to combat it. Here are some future strategies that could be effective: These are just a few of the future strategies that could be effective in combating cybercrime. As the threat landscape continues to evolve, it will be important to adapt these strategies and develop new ones. Cybercrime is a growing problem, and it is important to have strong legislation in place to help mitigate it. Legislation can help to: There are a number of international and national laws that address cybercrime. Some of the most important include: These are just a few of the many laws that are in place to help mitigate cybercrime. By having strong legislation in place, we can help to make the internet a safer place for everyone. In addition to the above, legislation can also play a role in: The landscape of cybercrime is constantly evolving, and by 2040, we can expect to see a significant shift in the tactics used by cybercriminals. Here are some of the trends that we can expect to see: These are just a few of the trends that we can expect to see in cybercrime by 2040. As technology continues to evolve, so too will the methods used by cybercriminals. It is important to stay ahead of the curve and to be aware of the latest threats. By doing so, we can help to protect ourselves and our organizations from cyberattacks. In addition to the trends mentioned above, there are a few other factors that could contribute to the shift in cybercriminal tactics by 2040. These include: All of these factors will contribute to the shift in cybercriminal tactics by 2040. It is important to be aware of these trends and to take steps to protect yourself and your organization from cyberattacks. Cybercrime is a persistent threat to national security. It can be used by criminals, terrorists, and hostile nation-states to steal sensitive information, disrupt critical infrastructure, and cause economic damage. Some of the most common cyber threats to national security include: The threat of cybercrime is constantly evolving. As new technologies are developed, cybercriminals find new ways to exploit them. This makes it essential for governments and businesses to invest in cyber security. There are a number of things that can be done to mitigate the threat of cybercrime, including: Cybercrime is a serious threat to national security, but it is a threat that can be mitigated. By taking steps to educate users, invest in cyber security, and work with international partners, we can help to make our countries more secure in the digital age. The rise of cybercrime is a major threat to the world in the 21st century. As our lives become increasingly digitized, criminals are finding new ways to exploit our vulnerabilities. By the year 2040, cybercrime is likely to be even more prevalent and sophisticated than it is today. The effects of cybercrime can be devastating for individuals, businesses, and society as a whole. Financial losses, identity theft, and disruption of critical infrastructure are just a few of the potential consequences. In some cases, cybercrime can even lead to violence or death. There are a number of things that can be done to mitigate the risks of cybercrime. Individuals can protect themselves by using strong passwords, being careful about what information they share online, and keeping their software up to date. Businesses can implement security measures such as firewalls, intrusion detection systems, and data encryption. Governments can enact laws and regulations to deter cybercrime and prosecute criminals. However, even with the best efforts, it is impossible to completely eliminate the risk of cybercrime. As long as there is a demand for stolen data and other illegal goods and services, there will be criminals willing to exploit the internet for their own gain. In the years to come, it is important to be aware of the risks of cybercrime and to take steps to protect yourself and your assets. By being proactive, we can help to reduce the impact of cybercrime and make the internet a safer place for everyone. Here are some additional thoughts on the future of cybercrime: The future of cybercrime is uncertain, but it is clear that the threat is real and growing. By taking steps to protect ourselves and our assets, we can help to mitigate the risks and make the internet a safer place for everyone. We provide intelligence, accelerate innovation and implement technology with extraordinary breadth and depth global insights into the big data,data-driven dashboards, applications development, and information management for organizations through combining unique, specialist services and high-lvel human expertise. Contact us: hello@blackcoffer.com © All Right Reserved, Blackcoffer(OPC) Pvt. Ltd'"
      ]
     },
     "execution_count": 8,
     "metadata": {},
     "output_type": "execute_result"
    }
   ],
   "source": [
    "txt"
   ]
  },
  {
   "cell_type": "code",
   "execution_count": 9,
   "id": "d20496e5",
   "metadata": {},
   "outputs": [
    {
     "data": {
      "text/plain": [
       "(0.148,\n",
       " 0.117,\n",
       " 0.9905,\n",
       " 0.4979332495461528,\n",
       " 21.142857142857142,\n",
       " 47.86780383795309,\n",
       " 27.604264392324094,\n",
       " 23.833333333333332,\n",
       " 449,\n",
       " 938,\n",
       " 2.4840085287846483,\n",
       " 1,\n",
       " 7.5799573560767595)"
      ]
     },
     "execution_count": 9,
     "metadata": {},
     "output_type": "execute_result"
    }
   ],
   "source": [
    "perform_text_analysis(txt)"
   ]
  },
  {
   "cell_type": "code",
   "execution_count": null,
   "id": "bfea4a14",
   "metadata": {},
   "outputs": [],
   "source": []
  }
 ],
 "metadata": {
  "kernelspec": {
   "display_name": "Python 3 (ipykernel)",
   "language": "python",
   "name": "python3"
  },
  "language_info": {
   "codemirror_mode": {
    "name": "ipython",
    "version": 3
   },
   "file_extension": ".py",
   "mimetype": "text/x-python",
   "name": "python",
   "nbconvert_exporter": "python",
   "pygments_lexer": "ipython3",
   "version": "3.10.9"
  }
 },
 "nbformat": 4,
 "nbformat_minor": 5
}
